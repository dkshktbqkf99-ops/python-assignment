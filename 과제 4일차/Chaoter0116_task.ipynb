{
 "cells": [
  {
   "cell_type": "markdown",
   "metadata": {
    "id": "BX7SgOeWu86I"
   },
   "source": [
    "안녕하세요. 수강생 여러분~! \n",
    "\n",
    "다시 돌아온 조금 더 성장할 기 ! 회 ! \n",
    "\n",
    "Chapter01 ~ 16의 수업 내용을 바탕으로 아래 문제를 풀어주시면 됩니다 !\n",
    "\n",
    "지금까지 잘 해오셨으니까, 총 복습한다고 생각하시고 한번 도전해보세요 !!!\n",
    "\n",
    "차근 차근 문제와 요구사항을 읽고 작성해보세요.\n",
    "\n",
    "<br>\n",
    "\n",
    "\n",
    "[**답변 입력 방법**]\n",
    "\n",
    "문제 아래에 있는 코드 입력창에 정답코드를 작성하신 후  __▷ 버튼을 클릭해 코드를 실행__ 해보세요<br>"
   ]
  },
  {
   "cell_type": "markdown",
   "metadata": {},
   "source": [
    "---"
   ]
  },
  {
   "cell_type": "markdown",
   "metadata": {},
   "source": [
    "#### 프로젝트: 붕어빵 자동 판매 시스템\n",
    "\n",
    "\n",
    "당신은 붕어빵 가게의 주인입니다. \n",
    "\n",
    "손님들이 붕어빵을 주문하면 이를 자동으로 처리하고, 재고를 관리하는 시스템을 만들고자 합니다. \n",
    "\n",
    "또한, 관리자 모드를 통해 재고를 추가할 수 있는 기능을 구현해야 합니다.\n"
   ]
  },
  {
   "cell_type": "markdown",
   "metadata": {},
   "source": [
    "__[문제 1: 붕어빵 재고 확인]__\n",
    "\n",
    "붕어빵 가게의 현재 재고를 확인하는 기능을 구현하세요.\n",
    "\n",
    "요구사항:\n",
    "- 현재 붕어빵의 재고를 딕셔너리로 관리합니다.\n",
    "- 딕셔너리에는 붕어빵의 종류와 각각의 재고 개수가 저장됩니다.\n",
    "- 현재 재고를 화면에 출력하세요.\n",
    "\n",
    "붕어빵 재고\n",
    "- 팥붕어빵 : 10개\n",
    "- 슈크림붕어빵 : 8개\n",
    "- 초코붕어빵 : 5개"
   ]
  },
  {
   "cell_type": "code",
   "execution_count": 35,
   "metadata": {},
   "outputs": [
    {
     "name": "stdout",
     "output_type": "stream",
     "text": [
      "붕어빵의 재고 상황\n",
      "- 팥붕어빵: 10개 입니다\n",
      "- 슈크림붕어빵: 8개 입니다\n",
      "- 초코붕어빵: 5개 입니다\n"
     ]
    }
   ],
   "source": [
    "#붕어빵 재고를 딕셔너리로 관리/각각 재고 개수 저장\n",
    "stock = {\n",
    "    \"팥붕어빵\": 10 ,\n",
    "    \"슈크림붕어빵\": 8,\n",
    "    \"초코붕어빵\": 5\n",
    "}\n",
    "\n",
    "#현재 재고를 출력하는 함수\n",
    "def print_stock(stock_dick):\n",
    "    print(\"붕어빵의 재고 상황\")\n",
    "    for bread, quantity in stock_dick.items():\n",
    "        print(f\"- {bread}: {quantity}개 입니다\")\n",
    "#출력\n",
    "print_stock(stock)"
   ]
  },
  {
   "cell_type": "markdown",
   "metadata": {},
   "source": [
    "__[문제 2: 붕어빵 주문 받기]__\n",
    "\n",
    "손님이 주문한 붕어빵의 종류와 개수를 입력받는 기능을 구현하세요.\n",
    "\n",
    "요구사항:\n",
    "- 손님이 주문할 붕어빵의 종류와 개수를 입력받습니다.\n",
    "- 주문 내용을 딕셔너리에 저장하세요.\n",
    "- 주문 내역을 출력해주세요."
   ]
  },
  {
   "cell_type": "code",
   "execution_count": 36,
   "metadata": {},
   "outputs": [
    {
     "ename": "ValueError",
     "evalue": "invalid literal for int() with base 10: ''",
     "output_type": "error",
     "traceback": [
      "\u001b[0;31m---------------------------------------------------------------------------\u001b[0m",
      "\u001b[0;31mValueError\u001b[0m                                Traceback (most recent call last)",
      "Cell \u001b[0;32mIn[36], line 11\u001b[0m\n\u001b[1;32m      8\u001b[0m order \u001b[38;5;241m=\u001b[39m {}\n\u001b[1;32m     10\u001b[0m bread \u001b[38;5;241m=\u001b[39m \u001b[38;5;28minput\u001b[39m(\u001b[38;5;124m\"\u001b[39m\u001b[38;5;124m주문할 붕어빵 종류를 입력하세요 (팥붕어빵/슈크림붕어빵/초코붕어빵): \u001b[39m\u001b[38;5;124m\"\u001b[39m)\n\u001b[0;32m---> 11\u001b[0m quantity \u001b[38;5;241m=\u001b[39m \u001b[38;5;28;43mint\u001b[39;49m\u001b[43m(\u001b[49m\u001b[38;5;28;43minput\u001b[39;49m\u001b[43m(\u001b[49m\u001b[38;5;124;43m\"\u001b[39;49m\u001b[38;5;124;43m주문할 개수를 입력해 주세요: \u001b[39;49m\u001b[38;5;124;43m\"\u001b[39;49m\u001b[43m)\u001b[49m\u001b[43m)\u001b[49m\n\u001b[1;32m     12\u001b[0m order[bread] \u001b[38;5;241m=\u001b[39m quantity\n\u001b[1;32m     13\u001b[0m \u001b[38;5;28mprint\u001b[39m(\u001b[38;5;124mf\u001b[39m\u001b[38;5;124m\"\u001b[39m\u001b[38;5;124m주문 내역: \u001b[39m\u001b[38;5;132;01m{\u001b[39;00morder\u001b[38;5;132;01m}\u001b[39;00m\u001b[38;5;124m\"\u001b[39m)\n",
      "\u001b[0;31mValueError\u001b[0m: invalid literal for int() with base 10: ''"
     ]
    }
   ],
   "source": [
    "#붕어빵 재고 \n",
    "stock = {\n",
    "    \"팥붕어빵\": 10 ,\n",
    "    \"슈크림붕어빵\": 8,\n",
    "    \"초코붕어빵\": 5\n",
    "}\n",
    "#주문 내용 저장 \n",
    "order = {}\n",
    "\n",
    "bread = input(\"주문할 붕어빵 종류를 입력하세요 (팥붕어빵/슈크림붕어빵/초코붕어빵): \")\n",
    "quantity = int(input(\"주문할 개수를 입력해 주세요: \"))\n",
    "order[bread] = quantity\n",
    "print(f\"주문 내역: {order}\")\n"
   ]
  },
  {
   "cell_type": "markdown",
   "metadata": {},
   "source": [
    "__[문제 3: 붕어빵 주문 처리]__\n",
    "\n",
    "손님의 주문을 처리하여 붕어빵 재고를 업데이트하는 기능을 구현하세요.\n",
    "\n",
    "요구사항:\n",
    "- 손님의 주문 내용을 기반으로 재고를 업데이트합니다.\n",
    "- 재고가 부족할 경우, 손님에게 재고 부족을 알리고 재고를 감소시키지 않습니다.\n",
    "- 재고가 충분할 경우, 주문한 만큼 재고를 감소시키고 판매를 완료합니다.\n",
    "- 판매가 완료된 경우 판매된 붕어빵 맛과 개수를 출력하세요."
   ]
  },
  {
   "cell_type": "code",
   "execution_count": null,
   "metadata": {},
   "outputs": [
    {
     "name": "stdout",
     "output_type": "stream",
     "text": [
      "팥 2개 판매 완료\n",
      "슈크림 4개 판매 완료\n",
      "초코이/가 부족합니다. 남은 수량: 5\n"
     ]
    }
   ],
   "source": [
    "stock = {\n",
    "    \"팥\": 10,\n",
    "    \"슈크림\": 8,\n",
    "    \"초코\": 5\n",
    "}\n",
    "\n",
    "def process_order(flavor, quantity):\n",
    "    if flavor not in stock:\n",
    "        print(f\"{flavor} 맛은 없습니다.\")\n",
    "        return\n",
    "\n",
    "    if stock[flavor] < quantity:\n",
    "        print(f\"{flavor}이/가 부족합니다. 남은 수량: {stock[flavor]}\")\n",
    "        return\n",
    "\n",
    "    stock[flavor] -= quantity\n",
    "    print(f\"{flavor} {quantity}개 판매 완료\")\n",
    "\n",
    "\n",
    "process_order(\"팥\", 2)\n",
    "process_order(\"슈크림\", 4)\n",
    "process_order(\"초코\", 6)\n"
   ]
  },
  {
   "cell_type": "markdown",
   "metadata": {},
   "source": [
    "__[문제 4: 여러 손님 주문 처리]__\n",
    "\n",
    "여러 손님들의 주문을 처리할 수 있도록 시스템을 확장하세요.\n",
    "\n",
    "요구사항:\n",
    "- 손님이 \"종료\"를 입력할 때까지 주문을 계속 받습니다.\n",
    "- 각 주문마다 재고를 업데이트합니다.\n",
    "- 현재 재고를 화면에 출력합니다."
   ]
  },
  {
   "cell_type": "code",
   "execution_count": null,
   "metadata": {},
   "outputs": [
    {
     "name": "stdout",
     "output_type": "stream",
     "text": [
      "주문이 잘못되었습니다\n",
      "주문이 잘못되었습니다\n",
      "주문이 잘못되었습니다\n",
      "주문이 잘못되었습니다\n",
      "초코 맛 붕어빵 5개 판매 완료\n",
      "초코 맛이 부족합니다. 남은 수량: 0\n",
      "슈크림 맛이 부족합니다. 남은 수량: 8\n",
      "슈크림 맛 붕어빵 8개 판매 완료\n",
      "주문이 잘못되었습니다\n",
      "주문을 종료합니다\n",
      "현재 재고\n",
      "-팥: 10개\n",
      "-슈크림: 0개\n",
      "-초코: 0개\n"
     ]
    }
   ],
   "source": [
    "#재고\n",
    "stock = {\n",
    "    \"팥\": 10,\n",
    "    \"슈크림\": 8,\n",
    "    \"초코\": 5\n",
    "}\n",
    "\n",
    "def process_order(flavor, quantity):\n",
    "    if flavor not in stock:\n",
    "        print(f\"{flavor} 맛은 없습니다\")\n",
    "        return\n",
    "    if stock[flavor] < quantity:\n",
    "        print(f\"{flavor} 맛이 부족합니다. 남은 수량: {stock[flavor]}\")\n",
    "        return\n",
    "    stock[flavor] -= quantity\n",
    "    print(f\"{flavor} 맛 붕어빵 {quantity}개 판매 완료\")\n",
    "\n",
    "while True:\n",
    "    user_input = input(\"주문을 입력하세요\")\n",
    "    if user_input.strip() == \"종료\":\n",
    "        print(\"주문을 종료합니다\")\n",
    "        break\n",
    "    try:\n",
    "        flavor, quantity = user_input.strip().split()\n",
    "        quantity = int(quantity)\n",
    "        process_order(flavor,quantity)\n",
    "    except ValueError:\n",
    "        print(\"주문이 잘못되었습니다\")\n",
    "        continue\n",
    "\n",
    "print(\"현재 재고\")\n",
    "for flavor, quantity in stock.items():\n",
    "    print(f\"-{flavor}: {quantity}개\")"
   ]
  },
  {
   "cell_type": "markdown",
   "metadata": {},
   "source": [
    "__[문제 5: 관리자 모드]__\n",
    "\n",
    "관리자 모드를 통해 붕어빵 재고를 추가할 수 있는 기능을 구현하세요.\n",
    "\n",
    "요구사항:\n",
    "- 관리자는 특정 붕어빵의 재고를 추가할 수 있습니다.\n",
    "- \"종료\"를 입력하면 관리자 모드를 종료합니다.\n",
    "- 추가된 재고를 업데이트하고 현재 재고를 화면에 출력합니다."
   ]
  },
  {
   "cell_type": "code",
   "execution_count": null,
   "metadata": {},
   "outputs": [
    {
     "name": "stdout",
     "output_type": "stream",
     "text": [
      "형식이 잘못되었습니다.\n",
      "슈크림 맛 붕어빵 2개 판매 완료!\n",
      "현재 재고:\n",
      "- 팥: 10개\n",
      "- 슈크림: 6개\n",
      "- 초코: 5개\n",
      " 관리자 모드에 들어왔습니다.\n",
      "슈크림 맛 재고 2개 추가 완료!\n",
      "현재 재고:\n",
      "- 팥: 10개\n",
      "- 슈크림: 8개\n",
      "- 초코: 5개\n",
      "관리자 모드를 종료합니다.\n",
      "주문을 종료합니다.\n"
     ]
    }
   ],
   "source": [
    "stock = {\n",
    "    \"팥\": 10,\n",
    "    \"슈크림\": 8,\n",
    "    \"초코\": 5\n",
    "}\n",
    "\n",
    "def process_order(flavor, quantity):\n",
    "    if flavor not in stock:\n",
    "        print(f\"{flavor} 맛은 없습니다.\")\n",
    "        return\n",
    "    if stock[flavor] < quantity:\n",
    "        print(f\"{flavor} 맛이 부족합니다. 남은 수량: {stock[flavor]}\")\n",
    "        return\n",
    "    stock[flavor] -= quantity\n",
    "    print(f\"{flavor} 맛 붕어빵 {quantity}개 판매 완료!\")\n",
    "\n",
    "def admin_mode():\n",
    "    print(\" 관리자 모드에 들어왔습니다.\")\n",
    "    while True:\n",
    "        admin_input = input(\"재고 추가 또는 '종료' >> \")\n",
    "        if admin_input.strip() == \"종료\":\n",
    "            print(\"관리자 모드를 종료합니다.\")\n",
    "            break\n",
    "        try:\n",
    "            flavor, quantity = admin_input.strip().split()\n",
    "            quantity = int(quantity)\n",
    "            if flavor not in stock:\n",
    "                print(f\"{flavor} 맛은 존재하지 않습니다.\")\n",
    "                continue\n",
    "            stock[flavor] += quantity\n",
    "            print(f\"{flavor} 맛 재고 {quantity}개 추가 완료!\")\n",
    "        except ValueError:\n",
    "            print(\"형식이 잘못되었습니다.\")\n",
    "            continue\n",
    "\n",
    "        # 재고 출력\n",
    "        print(\"현재 재고:\")\n",
    "        for f, q in stock.items():\n",
    "            print(f\"- {f}: {q}개\")\n",
    "\n",
    "# 손님 주문 처리 루프\n",
    "while True:\n",
    "    user_input = input(\"주문을 입력하세요/'관리자'/'종료' >> \")\n",
    "    if user_input.strip() == \"종료\":\n",
    "        print(\"주문을 종료합니다.\")\n",
    "        break\n",
    "    if user_input.strip() == \"관리자\":\n",
    "        admin_mode()\n",
    "        continue\n",
    "\n",
    "    try:\n",
    "        flavor, quantity = user_input.strip().split()\n",
    "        quantity = int(quantity)\n",
    "        process_order(flavor, quantity)\n",
    "    except ValueError:\n",
    "        print(\"형식이 잘못되었습니다.\")\n",
    "        continue\n",
    "\n",
    "    # 재고 출력\n",
    "    print(\"현재 재고:\")\n",
    "    for f, q in stock.items():\n",
    "        print(f\"- {f}: {q}개\")"
   ]
  },
  {
   "cell_type": "markdown",
   "metadata": {},
   "source": [
    "__[문제 6: 매출 확인]__\n",
    "\n",
    "붕어빵 판매 가격을 설정하고, 판매한 붕어빵의 매출을 계산하세요.\n",
    "\n",
    "요구사항:\n",
    "- 각 붕어빵의 가격을 딕셔너리로 관리합니다.\n",
    "- 판매된 붕어빵의 종류와 개수를 딕셔너리로 관리합니다.\n",
    "- 총 매출을 계산하여 출력합니다.\n",
    "\n",
    "초기 설정:\n",
    "- 가격\n",
    "    - \"팥붕어빵\": 1000\n",
    "    - \"슈크림붕어빵\": 1200\n",
    "    - \"초코붕어빵\": 1500\n",
    "\n",
    "- 판매 개수\n",
    "    - \"팥붕어빵\": 0\n",
    "    - \"슈크림붕어빵\": 0\n",
    "    - \"초코붕어빵\": 0"
   ]
  },
  {
   "cell_type": "code",
   "execution_count": 44,
   "metadata": {},
   "outputs": [
    {
     "name": "stdout",
     "output_type": "stream",
     "text": [
      "슈크림붕어빵 2개 판매 완료\n",
      "매출 현황\n",
      "-팥붕어빵: 0개 x 1000원 = 0원\n",
      "-슈크림붕어빵: 2개 x 1200원 = 2400원\n",
      "-초코붕어빵: 0개 x 1500원 = 0원\n",
      "총 매출: 2400원\n",
      "주문 종료\n"
     ]
    }
   ],
   "source": [
    "price = {\n",
    "    \"팥붕어빵\":1000,\n",
    "    \"슈크림붕어빵\":1200,\n",
    "    \"초코붕어빵\":1500\n",
    "}\n",
    "sales = {\n",
    "    \"팥붕어빵\":0,\n",
    "    \"슈크림붕어빵\":0,\n",
    "    \"초코붕어빵\":0\n",
    "}\n",
    "while True:\n",
    "    user_input = input(\"주문입력, '매출', '종료'\").strip()\n",
    "\n",
    "    if user_input == \"종료\":\n",
    "        print(\"주문 종료\")\n",
    "        break\n",
    "    elif user_input == \"매출\":\n",
    "        total = 0\n",
    "        print(\"매출 현황\")\n",
    "        for item in sales:\n",
    "            item_total = sales[item] * price[item]\n",
    "            print(f\"-{item}: {sales[item]}개 x {price[item]}원 = {item_total}원\")\n",
    "            total += item_total\n",
    "        print(f\"총 매출: {total}원\")\n",
    "    else:\n",
    "        try:\n",
    "            flavor,quantity = user_input.split()\n",
    "            quantity = int(quantity)\n",
    "            if flavor not in sales:\n",
    "                print(\"없는 메뉴 입니다\")\n",
    "                continue\n",
    "            sales[flavor] += quantity\n",
    "            print(f\"{flavor} {quantity}개 판매 완료\")\n",
    "        except:\n",
    "            print(\"형식 오류\")"
   ]
  }
 ],
 "metadata": {
  "colab": {
   "authorship_tag": "ABX9TyMLQjyUmELFyKkx1AyovOFZ",
   "provenance": []
  },
  "kernelspec": {
   "display_name": "Python 3",
   "name": "python3"
  },
  "language_info": {
   "codemirror_mode": {
    "name": "ipython",
    "version": 3
   },
   "file_extension": ".py",
   "mimetype": "text/x-python",
   "name": "python",
   "nbconvert_exporter": "python",
   "pygments_lexer": "ipython3",
   "version": "3.9.6"
  }
 },
 "nbformat": 4,
 "nbformat_minor": 0
}
