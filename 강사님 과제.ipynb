{
 "cells": [
  {
   "cell_type": "code",
   "execution_count": null,
   "id": "69590939",
   "metadata": {},
   "outputs": [
    {
     "name": "stdout",
     "output_type": "stream",
     "text": [
      "h\n",
      "n\n",
      "30\n",
      "10\n",
      "Pyt\n",
      "thon\n",
      "[20, 30, 40]\n",
      "[50, 40, 30, 20, 10]\n"
     ]
    }
   ],
   "source": [
    "#문제 1번\n",
    "word = \"Python\"\n",
    "# 예상 결과: h\n",
    "# 예상 결과: n\n",
    "\n",
    "print(word[3])  # h\n",
    "print(word[5])  # n\n",
    "\n",
    "\n",
    "#문제 2번\n",
    "numbers = [10, 20, 30, 40, 50]\n",
    "# 예상 결과: 30\n",
    "# 예상 결과: 10\n",
    "\n",
    "print(numbers[2])  # 30\n",
    "print(numbers[0])  # 10\n",
    "\n",
    "\n",
    "\n",
    "#문제 3번\n",
    "text = \"Python\"\n",
    "# 예상 결과: Pyt\n",
    "# 예상 결과: thon\n",
    "\n",
    "\n",
    "print(text[0:3])  # Pyt\n",
    "print(text[2:])   # thon\n",
    "\n",
    "\n",
    "#문제 4번\n",
    "data = [10, 20, 30, 40, 50]\n",
    "# 예상 결과: [20, 30, 40]\n",
    "# 예상 결과: [50, 40, 30, 20, 10]\n",
    "\n",
    "# 여기에 코드 작성\n",
    "print(data[1:4])  # [20, 30, 40]\n",
    "print(data[::-1])  # \n",
    "\n"
   ]
  },
  {
   "cell_type": "code",
   "execution_count": null,
   "id": "5c2146f0",
   "metadata": {},
   "outputs": [],
   "source": []
  }
 ],
 "metadata": {
  "kernelspec": {
   "display_name": "Python 3",
   "language": "python",
   "name": "python3"
  },
  "language_info": {
   "codemirror_mode": {
    "name": "ipython",
    "version": 3
   },
   "file_extension": ".py",
   "mimetype": "text/x-python",
   "name": "python",
   "nbconvert_exporter": "python",
   "pygments_lexer": "ipython3",
   "version": "3.9.6"
  }
 },
 "nbformat": 4,
 "nbformat_minor": 5
}
